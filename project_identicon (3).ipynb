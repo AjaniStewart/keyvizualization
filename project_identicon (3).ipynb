
# coding: utf-8

# # Identicon
# This program ....

# In[119]:

import matplotlib.pyplot as plt
#from matplotlib import mpl
import numpy as np
import random
import matplotlib.colors as clr
# input string 288 bits, convert to hexadecimal rep
# output 12 * 12 grid, cells 4 different colors[x]
# mapping 00-> white , 01 -> light blue, ....[x]
# http://stackoverflow.com/questions/10194482/custom-matplotlib-plot-chess-board-like-table-with-colored-cells[x]

def text_to_hex(text):
#convert string to hex
    out_array = []
    for i in range(len(text)):
        narray = [0,0]
        if ord(text[i].upper()) <= ord("9"):
            n = ord(text[i]) - ord("0")
        else:
            n = ord(text[i].upper()) - ord('A') + 10
        narray[1] = n%4
        narray[0] = n/4
        print text[i], n
        out_array = out_array + narray
    return out_array

def color_grid(grid):
    #determines color(White, light blue, blue, navy/dark blue) of each cell based on the string!
    zvals = np.zeros(shape=(12,12))
    coded_string = text_to_hex("aaaaaa111111222222123456123456123456123456123456123456123456123456000000")
    for i in range(len(grid)):
        for j in range(len(grid[0])):
            zvals[i][j] = coded_string[i*12+j]
            
    #zvals = np.random.rand(12,12)*4
    
    cmap = clr.ListedColormap(['white', 'lightblue', 'blue', 'navy'])
    bounds=[0,1,2,3,4]
    norm = clr.BoundaryNorm(bounds, cmap.N)
    grid = plt.imshow(zvals, interpolation='nearest', origin='lower',
                    cmap=cmap, norm=norm)
    
    #for i in range(len(grid)):
    #        for j in range(len(grid[0])):
    #                grid[i][j] = random.randint(0,3)
# Make a 12x12 grid...
def draw_grid():
    nrows, ncols = 12, 12
    image = np.zeros(nrows*ncols)
    

# Reshape things into a 12x12 grid.
    image = image.reshape((nrows, ncols))
    print image 
    color_grid(image)
    #plt.matshow(image)
    #plt.xticks(range(ncols))
    #plt.yticks(range(nrows))
    plt.show()

def test1():
    draw_grid()
def test2():
    print text_to_hex("ab12")
test1()
test2()


# In[117]:

print ord("412"[0])-ord("0")


# In[118]:

13%4


# In[48]:

13/4


# In[ ]:



